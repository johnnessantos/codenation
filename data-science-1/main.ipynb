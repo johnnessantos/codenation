{
 "cells": [
  {
   "cell_type": "markdown",
   "metadata": {},
   "source": [
    "# Desafio 3\n",
    "\n",
    "Neste desafio, iremos praticar nossos conhecimentos sobre distribuições de probabilidade. Para isso,\n",
    "dividiremos este desafio em duas partes:\n",
    "    \n",
    "1. A primeira parte contará com 3 questões sobre um *data set* artificial com dados de uma amostra normal e\n",
    "    uma binomial.\n",
    "2. A segunda parte será sobre a análise da distribuição de uma variável do _data set_ [Pulsar Star](https://archive.ics.uci.edu/ml/datasets/HTRU2), contendo 2 questões.\n",
    "\n",
    "> Obs.: Por favor, não modifique o nome das funções de resposta."
   ]
  },
  {
   "cell_type": "markdown",
   "metadata": {},
   "source": [
    "## _Setup_ geral"
   ]
  },
  {
   "cell_type": "code",
   "execution_count": 2,
   "metadata": {},
   "outputs": [],
   "source": [
    "import pandas as pd\n",
    "import matplotlib.pyplot as plt\n",
    "import numpy as np\n",
    "import scipy.stats as sct\n",
    "import seaborn as sns\n",
    "from statsmodels.distributions.empirical_distribution import ECDF"
   ]
  },
  {
   "cell_type": "code",
   "execution_count": 4,
   "metadata": {},
   "outputs": [],
   "source": [
    "#%matplotlib inline\n",
    "\n",
    "from IPython.core.pylabtools import figsize\n",
    "\n",
    "\n",
    "figsize(12, 8)\n",
    "\n",
    "sns.set()"
   ]
  },
  {
   "cell_type": "markdown",
   "metadata": {},
   "source": [
    "## Parte 1"
   ]
  },
  {
   "cell_type": "markdown",
   "metadata": {},
   "source": [
    "### _Setup_ da parte 1"
   ]
  },
  {
   "cell_type": "code",
   "execution_count": 6,
   "metadata": {},
   "outputs": [],
   "source": [
    "np.random.seed(42)\n",
    "    \n",
    "dataframe = pd.DataFrame({\"normal\": sct.norm.rvs(20, 4, size=10000),\n",
    "                     \"binomial\": sct.binom.rvs(100, 0.2, size=10000)})"
   ]
  },
  {
   "cell_type": "markdown",
   "metadata": {},
   "source": [
    "## Inicie sua análise a partir da parte 1 a partir daqui"
   ]
  },
  {
   "cell_type": "code",
   "execution_count": null,
   "metadata": {},
   "outputs": [],
   "source": []
  },
  {
   "cell_type": "code",
   "execution_count": 8,
   "metadata": {},
   "outputs": [
    {
     "output_type": "execute_result",
     "data": {
      "text/plain": "(10000, 2)"
     },
     "metadata": {},
     "execution_count": 8
    }
   ],
   "source": [
    "# Sua análise da parte 1 começa aqui.\n",
    "\n",
    "# Processo de verificaçao dos dados\n",
    "# 1. Verificar a quantidade de linhas e colunas\n",
    "# 2. Verificar os primeiros registros\n",
    "# 3. Verificar os tipos de dados\n",
    "# 4. Verificar informações estatisticas\n",
    "\n",
    "\n",
    "# 1. Verificar a quantidade de linhas e colunas (ok)\n",
    "dataframe.shape"
   ]
  },
  {
   "cell_type": "code",
   "execution_count": 10,
   "metadata": {},
   "outputs": [
    {
     "output_type": "execute_result",
     "data": {
      "text/plain": "      normal  binomial\n0  21.986857        18\n1  19.446943        15\n2  22.590754        14\n3  26.092119        15\n4  19.063387        21",
      "text/html": "<div>\n<style scoped>\n    .dataframe tbody tr th:only-of-type {\n        vertical-align: middle;\n    }\n\n    .dataframe tbody tr th {\n        vertical-align: top;\n    }\n\n    .dataframe thead th {\n        text-align: right;\n    }\n</style>\n<table border=\"1\" class=\"dataframe\">\n  <thead>\n    <tr style=\"text-align: right;\">\n      <th></th>\n      <th>normal</th>\n      <th>binomial</th>\n    </tr>\n  </thead>\n  <tbody>\n    <tr>\n      <th>0</th>\n      <td>21.986857</td>\n      <td>18</td>\n    </tr>\n    <tr>\n      <th>1</th>\n      <td>19.446943</td>\n      <td>15</td>\n    </tr>\n    <tr>\n      <th>2</th>\n      <td>22.590754</td>\n      <td>14</td>\n    </tr>\n    <tr>\n      <th>3</th>\n      <td>26.092119</td>\n      <td>15</td>\n    </tr>\n    <tr>\n      <th>4</th>\n      <td>19.063387</td>\n      <td>21</td>\n    </tr>\n  </tbody>\n</table>\n</div>"
     },
     "metadata": {},
     "execution_count": 10
    }
   ],
   "source": [
    "# 2. Verificar os primeiros registros (ok)\n",
    "\n",
    "dataframe.head()"
   ]
  },
  {
   "cell_type": "code",
   "execution_count": 12,
   "metadata": {},
   "outputs": [
    {
     "output_type": "stream",
     "name": "stdout",
     "text": "<class 'pandas.core.frame.DataFrame'>\nRangeIndex: 10000 entries, 0 to 9999\nData columns (total 2 columns):\nnormal      10000 non-null float64\nbinomial    10000 non-null int32\ndtypes: float64(1), int32(1)\nmemory usage: 117.3 KB\n"
    }
   ],
   "source": [
    "# 3. Verificar os tipos de dados (ok)\n",
    "\n",
    "dataframe.info()"
   ]
  },
  {
   "cell_type": "code",
   "execution_count": 14,
   "metadata": {},
   "outputs": [
    {
     "output_type": "execute_result",
     "data": {
      "text/plain": "            count       mean       std       min        25%       50%  \\\nnormal    10000.0  19.991456  4.013850  4.310399  17.309638  19.98962   \nbinomial  10000.0  20.097000  4.041191  6.000000  17.000000  20.00000   \n\n                75%        max  \nnormal    22.684324  35.704951  \nbinomial  23.000000  36.000000  ",
      "text/html": "<div>\n<style scoped>\n    .dataframe tbody tr th:only-of-type {\n        vertical-align: middle;\n    }\n\n    .dataframe tbody tr th {\n        vertical-align: top;\n    }\n\n    .dataframe thead th {\n        text-align: right;\n    }\n</style>\n<table border=\"1\" class=\"dataframe\">\n  <thead>\n    <tr style=\"text-align: right;\">\n      <th></th>\n      <th>count</th>\n      <th>mean</th>\n      <th>std</th>\n      <th>min</th>\n      <th>25%</th>\n      <th>50%</th>\n      <th>75%</th>\n      <th>max</th>\n    </tr>\n  </thead>\n  <tbody>\n    <tr>\n      <th>normal</th>\n      <td>10000.0</td>\n      <td>19.991456</td>\n      <td>4.013850</td>\n      <td>4.310399</td>\n      <td>17.309638</td>\n      <td>19.98962</td>\n      <td>22.684324</td>\n      <td>35.704951</td>\n    </tr>\n    <tr>\n      <th>binomial</th>\n      <td>10000.0</td>\n      <td>20.097000</td>\n      <td>4.041191</td>\n      <td>6.000000</td>\n      <td>17.000000</td>\n      <td>20.00000</td>\n      <td>23.000000</td>\n      <td>36.000000</td>\n    </tr>\n  </tbody>\n</table>\n</div>"
     },
     "metadata": {},
     "execution_count": 14
    }
   ],
   "source": [
    "# 4. Verificar informações estatisticas\n",
    "\n",
    "dataframe.describe().T"
   ]
  },
  {
   "cell_type": "markdown",
   "metadata": {},
   "source": [
    "# Analise exploratória dos dados"
   ]
  },
  {
   "cell_type": "markdown",
   "metadata": {},
   "source": [
    "## Questão 1\n",
    "\n",
    "Qual a diferença entre os quartis (Q1, Q2 e Q3) das variáveis `normal` e `binomial` de `dataframe`? Responda como uma tupla de três elementos arredondados para três casas decimais.\n",
    "\n",
    "Em outra palavras, sejam `q1_norm`, `q2_norm` e `q3_norm` os quantis da variável `normal` e `q1_binom`, `q2_binom` e `q3_binom` os quantis da variável `binom`, qual a diferença `(q1_norm - q1 binom, q2_norm - q2_binom, q3_norm - q3_binom)`?"
   ]
  },
  {
   "cell_type": "code",
   "execution_count": 16,
   "metadata": {},
   "outputs": [],
   "source": [
    "def q1():\n",
    "    dataframe_stats = dataframe.describe()\n",
    "    return (round(dataframe_stats['normal']['25%'] - dataframe_stats['binomial']['25%'], 3), \n",
    "            round(dataframe_stats['normal']['50%'] - dataframe_stats['binomial']['50%'], 3),\n",
    "            round(dataframe_stats['normal']['75%'] - dataframe_stats['binomial']['75%'], 3)\n",
    "    )"
   ]
  },
  {
   "cell_type": "markdown",
   "metadata": {},
   "source": [
    "Para refletir:\n",
    "\n",
    "* Você esperava valores dessa magnitude?\n",
    "\n",
    "* Você é capaz de explicar como distribuições aparentemente tão diferentes (discreta e contínua, por exemplo) conseguem dar esses valores?"
   ]
  },
  {
   "cell_type": "markdown",
   "metadata": {},
   "source": [
    "## Questão 2\n",
    "\n",
    "Considere o intervalo $[\\bar{x} - s, \\bar{x} + s]$, onde $\\bar{x}$ é a média amostral e $s$ é o desvio padrão. Qual a probabilidade nesse intervalo, calculada pela função de distribuição acumulada empírica (CDF empírica) da variável `normal`? Responda como uma único escalar arredondado para três casas decimais."
   ]
  },
  {
   "cell_type": "code",
   "execution_count": 18,
   "metadata": {},
   "outputs": [],
   "source": [
    "def q2():\n",
    "    normal_mean = dataframe['normal'].mean()\n",
    "    normal_std = dataframe['normal'].std()\n",
    "    \n",
    "    # Calculating the intervals\n",
    "    interval1 = normal_mean - normal_std\n",
    "    interval2 = normal_mean + normal_std\n",
    "\n",
    "    # Values applied to the ECDF function\n",
    "    interval1 = ECDF(dataframe['normal'])(interval1)\n",
    "    interval2 = ECDF(dataframe['normal'])(interval2)\n",
    "    \n",
    "    return float(round(interval2 - interval1, 3))"
   ]
  },
  {
   "cell_type": "markdown",
   "metadata": {},
   "source": [
    "Para refletir:\n",
    "\n",
    "* Esse valor se aproxima do esperado teórico?\n",
    "* Experimente também para os intervalos $[\\bar{x} - 2s, \\bar{x} + 2s]$ e $[\\bar{x} - 3s, \\bar{x} + 3s]$."
   ]
  },
  {
   "cell_type": "markdown",
   "metadata": {},
   "source": [
    "## Questão 3\n",
    "\n",
    "Qual é a diferença entre as médias e as variâncias das variáveis `binomial` e `normal`? Responda como uma tupla de dois elementos arredondados para três casas decimais.\n",
    "\n",
    "Em outras palavras, sejam `m_binom` e `v_binom` a média e a variância da variável `binomial`, e `m_norm` e `v_norm` a média e a variância da variável `normal`. Quais as diferenças `(m_binom - m_norm, v_binom - v_norm)`?"
   ]
  },
  {
   "cell_type": "code",
   "execution_count": 20,
   "metadata": {},
   "outputs": [],
   "source": [
    "def q3():\n",
    "    binomial_mean, binomial_variance = dataframe['binomial'].mean(), dataframe['binomial'].var()\n",
    "    normal_mean, normal_variance = dataframe['normal'].mean(), dataframe['normal'].var()\n",
    "    \n",
    "    return (round(binomial_mean - normal_mean, 3), round(binomial_variance - normal_variance, 3))"
   ]
  },
  {
   "cell_type": "markdown",
   "metadata": {},
   "source": [
    "Para refletir:\n",
    "\n",
    "* Você esperava valore dessa magnitude?\n",
    "* Qual o efeito de aumentar ou diminuir $n$ (atualmente 100) na distribuição da variável `binomial`?"
   ]
  },
  {
   "cell_type": "markdown",
   "metadata": {},
   "source": [
    "## Parte 2"
   ]
  },
  {
   "cell_type": "markdown",
   "metadata": {},
   "source": [
    "### _Setup_ da parte 2"
   ]
  },
  {
   "cell_type": "code",
   "execution_count": 22,
   "metadata": {},
   "outputs": [],
   "source": [
    "stars = pd.read_csv(\"pulsar_stars.csv\")\n",
    "\n",
    "stars.rename({old_name: new_name\n",
    "              for (old_name, new_name)\n",
    "              in zip(stars.columns,\n",
    "                     [\"mean_profile\", \"sd_profile\", \"kurt_profile\", \"skew_profile\", \"mean_curve\", \"sd_curve\", \"kurt_curve\", \"skew_curve\", \"target\"])\n",
    "             },\n",
    "             axis=1, inplace=True)\n",
    "\n",
    "stars.loc[:, \"target\"] = stars.target.astype(bool)"
   ]
  },
  {
   "cell_type": "markdown",
   "metadata": {},
   "source": [
    "## Inicie sua análise da parte 2 a partir daqui"
   ]
  },
  {
   "cell_type": "code",
   "execution_count": 24,
   "metadata": {},
   "outputs": [],
   "source": [
    "# Sua análise da parte 2 começa aqui.\n",
    "# Processo de verificaçao dos dados\n",
    "# 1. Verificar a quantidade de linhas e colunas\n",
    "# 2. Verificar os primeiros registros\n",
    "# 3. Verificar os tipos de dados\n",
    "# 4. Verificar informações estatisticas"
   ]
  },
  {
   "cell_type": "code",
   "execution_count": 26,
   "metadata": {},
   "outputs": [
    {
     "output_type": "stream",
     "name": "stdout",
     "text": "shape of stars: (17897, 9)\n"
    },
    {
     "output_type": "execute_result",
     "data": {
      "text/plain": "   mean_profile  sd_profile  kurt_profile  skew_profile  mean_curve  \\\n0    102.507812   58.882430      0.465318     -0.515088    1.677258   \n1    103.015625   39.341649      0.323328      1.051164    3.121237   \n2    136.750000   57.178449     -0.068415     -0.636238    3.642977   \n3     88.726562   40.672225      0.600866      1.123492    1.178930   \n4     93.570312   46.698114      0.531905      0.416721    1.636288   \n\n    sd_curve  kurt_curve  skew_curve  target  \n0  14.860146   10.576487  127.393580   False  \n1  21.744669    7.735822   63.171909   False  \n2  20.959280    6.896499   53.593661   False  \n3  11.468720   14.269573  252.567306   False  \n4  14.545074   10.621748  131.394004   False  ",
      "text/html": "<div>\n<style scoped>\n    .dataframe tbody tr th:only-of-type {\n        vertical-align: middle;\n    }\n\n    .dataframe tbody tr th {\n        vertical-align: top;\n    }\n\n    .dataframe thead th {\n        text-align: right;\n    }\n</style>\n<table border=\"1\" class=\"dataframe\">\n  <thead>\n    <tr style=\"text-align: right;\">\n      <th></th>\n      <th>mean_profile</th>\n      <th>sd_profile</th>\n      <th>kurt_profile</th>\n      <th>skew_profile</th>\n      <th>mean_curve</th>\n      <th>sd_curve</th>\n      <th>kurt_curve</th>\n      <th>skew_curve</th>\n      <th>target</th>\n    </tr>\n  </thead>\n  <tbody>\n    <tr>\n      <th>0</th>\n      <td>102.507812</td>\n      <td>58.882430</td>\n      <td>0.465318</td>\n      <td>-0.515088</td>\n      <td>1.677258</td>\n      <td>14.860146</td>\n      <td>10.576487</td>\n      <td>127.393580</td>\n      <td>False</td>\n    </tr>\n    <tr>\n      <th>1</th>\n      <td>103.015625</td>\n      <td>39.341649</td>\n      <td>0.323328</td>\n      <td>1.051164</td>\n      <td>3.121237</td>\n      <td>21.744669</td>\n      <td>7.735822</td>\n      <td>63.171909</td>\n      <td>False</td>\n    </tr>\n    <tr>\n      <th>2</th>\n      <td>136.750000</td>\n      <td>57.178449</td>\n      <td>-0.068415</td>\n      <td>-0.636238</td>\n      <td>3.642977</td>\n      <td>20.959280</td>\n      <td>6.896499</td>\n      <td>53.593661</td>\n      <td>False</td>\n    </tr>\n    <tr>\n      <th>3</th>\n      <td>88.726562</td>\n      <td>40.672225</td>\n      <td>0.600866</td>\n      <td>1.123492</td>\n      <td>1.178930</td>\n      <td>11.468720</td>\n      <td>14.269573</td>\n      <td>252.567306</td>\n      <td>False</td>\n    </tr>\n    <tr>\n      <th>4</th>\n      <td>93.570312</td>\n      <td>46.698114</td>\n      <td>0.531905</td>\n      <td>0.416721</td>\n      <td>1.636288</td>\n      <td>14.545074</td>\n      <td>10.621748</td>\n      <td>131.394004</td>\n      <td>False</td>\n    </tr>\n  </tbody>\n</table>\n</div>"
     },
     "metadata": {},
     "execution_count": 26
    }
   ],
   "source": [
    "# 1. Verificar a quantidade de linhas e colunas\n",
    "print(f'shape of stars: {stars.shape}')\n",
    "\n",
    "# 2. Verificar os primeiros registros\n",
    "stars.head()"
   ]
  },
  {
   "cell_type": "code",
   "execution_count": 28,
   "metadata": {},
   "outputs": [
    {
     "output_type": "stream",
     "name": "stdout",
     "text": "<class 'pandas.core.frame.DataFrame'>\nRangeIndex: 17897 entries, 0 to 17896\nData columns (total 9 columns):\nmean_profile    17897 non-null float64\nsd_profile      17897 non-null float64\nkurt_profile    17897 non-null float64\nskew_profile    17897 non-null float64\nmean_curve      17897 non-null float64\nsd_curve        17897 non-null float64\nkurt_curve      17897 non-null float64\nskew_curve      17897 non-null float64\ntarget          17897 non-null bool\ndtypes: bool(1), float64(8)\nmemory usage: 1.1 MB\nNone\n"
    }
   ],
   "source": [
    "# 3. Verificar os tipos de dados\n",
    "print(stars.info())"
   ]
  },
  {
   "cell_type": "code",
   "execution_count": 30,
   "metadata": {},
   "outputs": [
    {
     "output_type": "execute_result",
     "data": {
      "text/plain": "                count        mean         std        min         25%  \\\nmean_profile  17897.0  111.078321   25.652705   5.812500  100.929688   \nsd_profile    17897.0   46.549021    6.843040  24.772042   42.375426   \nkurt_profile  17897.0    0.477897    1.064056  -1.876011    0.027108   \nskew_profile  17897.0    1.770417    6.168058  -1.791886   -0.188528   \nmean_curve    17897.0   12.614926   29.473637   0.213211    1.923077   \nsd_curve      17897.0   26.326918   19.471042   7.370432   14.437330   \nkurt_curve    17897.0    8.303574    4.506217  -3.139270    5.781485   \nskew_curve    17897.0  104.859419  106.517270  -1.976976   34.957119   \n\n                     50%         75%          max  \nmean_profile  115.078125  127.085938   192.617188  \nsd_profile     46.946435   51.022887    98.778911  \nkurt_profile    0.223241    0.473349     8.069522  \nskew_profile    0.198736    0.928206    68.101622  \nmean_curve      2.801839    5.464883   223.392140  \nsd_curve       18.459977   28.428152   110.642211  \nkurt_curve      8.433872   10.702973    34.539844  \nskew_curve     83.068996  139.310905  1191.000837  ",
      "text/html": "<div>\n<style scoped>\n    .dataframe tbody tr th:only-of-type {\n        vertical-align: middle;\n    }\n\n    .dataframe tbody tr th {\n        vertical-align: top;\n    }\n\n    .dataframe thead th {\n        text-align: right;\n    }\n</style>\n<table border=\"1\" class=\"dataframe\">\n  <thead>\n    <tr style=\"text-align: right;\">\n      <th></th>\n      <th>count</th>\n      <th>mean</th>\n      <th>std</th>\n      <th>min</th>\n      <th>25%</th>\n      <th>50%</th>\n      <th>75%</th>\n      <th>max</th>\n    </tr>\n  </thead>\n  <tbody>\n    <tr>\n      <th>mean_profile</th>\n      <td>17897.0</td>\n      <td>111.078321</td>\n      <td>25.652705</td>\n      <td>5.812500</td>\n      <td>100.929688</td>\n      <td>115.078125</td>\n      <td>127.085938</td>\n      <td>192.617188</td>\n    </tr>\n    <tr>\n      <th>sd_profile</th>\n      <td>17897.0</td>\n      <td>46.549021</td>\n      <td>6.843040</td>\n      <td>24.772042</td>\n      <td>42.375426</td>\n      <td>46.946435</td>\n      <td>51.022887</td>\n      <td>98.778911</td>\n    </tr>\n    <tr>\n      <th>kurt_profile</th>\n      <td>17897.0</td>\n      <td>0.477897</td>\n      <td>1.064056</td>\n      <td>-1.876011</td>\n      <td>0.027108</td>\n      <td>0.223241</td>\n      <td>0.473349</td>\n      <td>8.069522</td>\n    </tr>\n    <tr>\n      <th>skew_profile</th>\n      <td>17897.0</td>\n      <td>1.770417</td>\n      <td>6.168058</td>\n      <td>-1.791886</td>\n      <td>-0.188528</td>\n      <td>0.198736</td>\n      <td>0.928206</td>\n      <td>68.101622</td>\n    </tr>\n    <tr>\n      <th>mean_curve</th>\n      <td>17897.0</td>\n      <td>12.614926</td>\n      <td>29.473637</td>\n      <td>0.213211</td>\n      <td>1.923077</td>\n      <td>2.801839</td>\n      <td>5.464883</td>\n      <td>223.392140</td>\n    </tr>\n    <tr>\n      <th>sd_curve</th>\n      <td>17897.0</td>\n      <td>26.326918</td>\n      <td>19.471042</td>\n      <td>7.370432</td>\n      <td>14.437330</td>\n      <td>18.459977</td>\n      <td>28.428152</td>\n      <td>110.642211</td>\n    </tr>\n    <tr>\n      <th>kurt_curve</th>\n      <td>17897.0</td>\n      <td>8.303574</td>\n      <td>4.506217</td>\n      <td>-3.139270</td>\n      <td>5.781485</td>\n      <td>8.433872</td>\n      <td>10.702973</td>\n      <td>34.539844</td>\n    </tr>\n    <tr>\n      <th>skew_curve</th>\n      <td>17897.0</td>\n      <td>104.859419</td>\n      <td>106.517270</td>\n      <td>-1.976976</td>\n      <td>34.957119</td>\n      <td>83.068996</td>\n      <td>139.310905</td>\n      <td>1191.000837</td>\n    </tr>\n  </tbody>\n</table>\n</div>"
     },
     "metadata": {},
     "execution_count": 30
    }
   ],
   "source": [
    "# 4. Verificar informações estatisticas\n",
    "stars.describe().T"
   ]
  },
  {
   "cell_type": "markdown",
   "metadata": {},
   "source": [
    "## Questão 4\n",
    "\n",
    "Considerando a variável `mean_profile` de `stars`:\n",
    "\n",
    "1. Filtre apenas os valores de `mean_profile` onde `target == 0` (ou seja, onde a estrela não é um pulsar).\n",
    "2. Padronize a variável `mean_profile` filtrada anteriormente para ter média 0 e variância 1.\n",
    "\n",
    "Chamaremos a variável resultante de `false_pulsar_mean_profile_standardized`.\n",
    "\n",
    "Encontre os quantis teóricos para uma distribuição normal de média 0 e variância 1 para 0.80, 0.90 e 0.95 através da função `norm.ppf()` disponível em `scipy.stats`.\n",
    "\n",
    "Quais as probabilidade associadas a esses quantis utilizando a CDF empírica da variável `false_pulsar_mean_profile_standardized`? Responda como uma tupla de três elementos arredondados para três casas decimais."
   ]
  },
  {
   "cell_type": "code",
   "execution_count": 32,
   "metadata": {},
   "outputs": [],
   "source": [
    "def q4():\n",
    "    false_pulsar_mean_profile = stars.loc[stars['target']==False, 'mean_profile']\n",
    "    \n",
    "    false_pulsar_mean_profile_standardized = sct.zscore(false_pulsar_mean_profile)\n",
    "    \n",
    "    # Percent point function\n",
    "    ppf_q80 = sct.norm.ppf(0.80, loc=0, scale=1)\n",
    "    ppf_q90 = sct.norm.ppf(0.90, loc=0, scale=1)\n",
    "    ppf_q95 = sct.norm.ppf(0.95, loc=0, scale=1)\n",
    "    \n",
    "    # Create the ecdf function with standardized star data\n",
    "    compute_ecdf_stars = ECDF(false_pulsar_mean_profile_standardized)\n",
    "    \n",
    "    return (round(compute_ecdf_stars(ppf_q80), 3),\n",
    "           round(compute_ecdf_stars(ppf_q90), 3),\n",
    "           round(compute_ecdf_stars(ppf_q95), 3)\n",
    "    )"
   ]
  },
  {
   "cell_type": "markdown",
   "metadata": {},
   "source": [
    "Para refletir:\n",
    "\n",
    "* Os valores encontrados fazem sentido?\n",
    "* O que isso pode dizer sobre a distribuição da variável `false_pulsar_mean_profile_standardized`?"
   ]
  },
  {
   "cell_type": "markdown",
   "metadata": {},
   "source": [
    "## Questão 5\n",
    "\n",
    "Qual a diferença entre os quantis Q1, Q2 e Q3 de `false_pulsar_mean_profile_standardized` e os mesmos quantis teóricos de uma distribuição normal de média 0 e variância 1? Responda como uma tupla de três elementos arredondados para três casas decimais."
   ]
  },
  {
   "cell_type": "code",
   "execution_count": 34,
   "metadata": {},
   "outputs": [],
   "source": [
    "def q5():\n",
    "    false_pulsar_mean_profile = stars.loc[stars['target']==False, 'mean_profile']\n",
    "    \n",
    "    false_pulsar_mean_profile_standardized = sct.zscore(false_pulsar_mean_profile)\n",
    "    \n",
    "    # Quartis q1, q2 and q3 stardardized\n",
    "    ppf_q1 = sct.norm.ppf(0.25, loc=0, scale=1)\n",
    "    ppf_q2 = sct.norm.ppf(0.50, loc=0, scale=1)\n",
    "    ppf_q3 = sct.norm.ppf(0.75, loc=0, scale=1)\n",
    "    \n",
    "    false_pulsar_mean_profile_standardized_q1 = np.percentile(false_pulsar_mean_profile_standardized, 25)\n",
    "    false_pulsar_mean_profile_standardized_q2 = np.percentile(false_pulsar_mean_profile_standardized, 50)\n",
    "    false_pulsar_mean_profile_standardized_q3 = np.percentile(false_pulsar_mean_profile_standardized, 75)\n",
    "    \n",
    "    return (round(false_pulsar_mean_profile_standardized_q1 - ppf_q1, 3),\n",
    "            round(false_pulsar_mean_profile_standardized_q2 - ppf_q2, 3),\n",
    "            round(false_pulsar_mean_profile_standardized_q3 - ppf_q3, 3)\n",
    "    )"
   ]
  },
  {
   "cell_type": "markdown",
   "metadata": {},
   "source": [
    "Para refletir:\n",
    "\n",
    "* Os valores encontrados fazem sentido?\n",
    "* O que isso pode dizer sobre a distribuição da variável `false_pulsar_mean_profile_standardized`?\n",
    "* Curiosidade: alguns testes de hipóteses sobre normalidade dos dados utilizam essa mesma abordagem."
   ]
  }
 ],
 "metadata": {
  "kernelspec": {
   "display_name": "Python 3.7.6 64-bit ('venv': venv)",
   "language": "python",
   "name": "python37664bitvenvvenv1801a742e3ea44f48e5574ac624a874b"
  },
  "language_info": {
   "codemirror_mode": {
    "name": "ipython",
    "version": 3
   },
   "file_extension": ".py",
   "mimetype": "text/x-python",
   "name": "python",
   "nbconvert_exporter": "python",
   "pygments_lexer": "ipython3",
   "version": "3.7.6-final"
  }
 },
 "nbformat": 4,
 "nbformat_minor": 4
}