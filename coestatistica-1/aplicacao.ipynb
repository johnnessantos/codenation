{
 "nbformat": 4,
 "nbformat_minor": 2,
 "metadata": {
  "language_info": {
   "name": "python",
   "codemirror_mode": {
    "name": "ipython",
    "version": 3
   },
   "version": "3.7.6-final"
  },
  "orig_nbformat": 2,
  "file_extension": ".py",
  "mimetype": "text/x-python",
  "name": "python",
  "npconvert_exporter": "python",
  "pygments_lexer": "ipython3",
  "version": 3,
  "kernelspec": {
   "name": "python3",
   "display_name": "Python 3"
  }
 },
 "cells": [
  {
   "cell_type": "code",
   "execution_count": 1,
   "metadata": {},
   "outputs": [],
   "source": [
    "import pandas as pd\n",
    "import numpy as np"
   ]
  },
  {
   "cell_type": "code",
   "execution_count": 2,
   "metadata": {},
   "outputs": [],
   "source": [
    "dados = pd.read_csv('desafio1.csv')"
   ]
  },
  {
   "cell_type": "code",
   "execution_count": 3,
   "metadata": {},
   "outputs": [
    {
     "output_type": "execute_result",
     "data": {
      "text/plain": "   RowNumber                                        id  \\\n0          1  e7f44fcbd380d4cef7e6c232cc7e37895c3fd197   \n1          2  28dcb083ad90512da16b9430085c2cddb8ca5e12   \n2          3  774bc378f787438c9c7594e536787d07a097a54b   \n3          4  043a71326f7096de155e7f0c559dc62b5e4b7239   \n4          5  37b3bb8ca243955fb3605ec7e1c2a4607cdb3b22   \n\n                                  sobrenome  pontuacao_credito  \\\n0  6d6e0aa1b9b413e442e2fb68df14b4fc3f91de50                619   \n1  48e1ad846796fa314f1b4a6702b83343eb5482c5                608   \n2  f2b29d5d934de615812b697132e767dea0f1e9e2                502   \n3  85d5c9da7cddd8109ad32a6c348fe2bb10bf99f2                699   \n4  ddc89c837a6933639de75f28171057060bd322df                850   \n\n  estado_residencia genero  idade  nivel_estabilidade  saldo_conta  \\\n0                SC      F     42                   2         0.00   \n1                RS      F     41                   1     83807.86   \n2                SC      F     42                   8    159660.80   \n3                SC      F     39                   1         0.00   \n4                RS      F     43                   2    125510.82   \n\n   numero_produtos  possui_cartao_de_credito  membro_ativo  \n0                1                         1             1  \n1                1                         0             1  \n2                3                         1             0  \n3                2                         0             0  \n4                1                         1             1  ",
      "text/html": "<div>\n<style scoped>\n    .dataframe tbody tr th:only-of-type {\n        vertical-align: middle;\n    }\n\n    .dataframe tbody tr th {\n        vertical-align: top;\n    }\n\n    .dataframe thead th {\n        text-align: right;\n    }\n</style>\n<table border=\"1\" class=\"dataframe\">\n  <thead>\n    <tr style=\"text-align: right;\">\n      <th></th>\n      <th>RowNumber</th>\n      <th>id</th>\n      <th>sobrenome</th>\n      <th>pontuacao_credito</th>\n      <th>estado_residencia</th>\n      <th>genero</th>\n      <th>idade</th>\n      <th>nivel_estabilidade</th>\n      <th>saldo_conta</th>\n      <th>numero_produtos</th>\n      <th>possui_cartao_de_credito</th>\n      <th>membro_ativo</th>\n    </tr>\n  </thead>\n  <tbody>\n    <tr>\n      <th>0</th>\n      <td>1</td>\n      <td>e7f44fcbd380d4cef7e6c232cc7e37895c3fd197</td>\n      <td>6d6e0aa1b9b413e442e2fb68df14b4fc3f91de50</td>\n      <td>619</td>\n      <td>SC</td>\n      <td>F</td>\n      <td>42</td>\n      <td>2</td>\n      <td>0.00</td>\n      <td>1</td>\n      <td>1</td>\n      <td>1</td>\n    </tr>\n    <tr>\n      <th>1</th>\n      <td>2</td>\n      <td>28dcb083ad90512da16b9430085c2cddb8ca5e12</td>\n      <td>48e1ad846796fa314f1b4a6702b83343eb5482c5</td>\n      <td>608</td>\n      <td>RS</td>\n      <td>F</td>\n      <td>41</td>\n      <td>1</td>\n      <td>83807.86</td>\n      <td>1</td>\n      <td>0</td>\n      <td>1</td>\n    </tr>\n    <tr>\n      <th>2</th>\n      <td>3</td>\n      <td>774bc378f787438c9c7594e536787d07a097a54b</td>\n      <td>f2b29d5d934de615812b697132e767dea0f1e9e2</td>\n      <td>502</td>\n      <td>SC</td>\n      <td>F</td>\n      <td>42</td>\n      <td>8</td>\n      <td>159660.80</td>\n      <td>3</td>\n      <td>1</td>\n      <td>0</td>\n    </tr>\n    <tr>\n      <th>3</th>\n      <td>4</td>\n      <td>043a71326f7096de155e7f0c559dc62b5e4b7239</td>\n      <td>85d5c9da7cddd8109ad32a6c348fe2bb10bf99f2</td>\n      <td>699</td>\n      <td>SC</td>\n      <td>F</td>\n      <td>39</td>\n      <td>1</td>\n      <td>0.00</td>\n      <td>2</td>\n      <td>0</td>\n      <td>0</td>\n    </tr>\n    <tr>\n      <th>4</th>\n      <td>5</td>\n      <td>37b3bb8ca243955fb3605ec7e1c2a4607cdb3b22</td>\n      <td>ddc89c837a6933639de75f28171057060bd322df</td>\n      <td>850</td>\n      <td>RS</td>\n      <td>F</td>\n      <td>43</td>\n      <td>2</td>\n      <td>125510.82</td>\n      <td>1</td>\n      <td>1</td>\n      <td>1</td>\n    </tr>\n  </tbody>\n</table>\n</div>"
     },
     "metadata": {},
     "execution_count": 3
    }
   ],
   "source": [
    "dados.head()"
   ]
  },
  {
   "cell_type": "code",
   "execution_count": 4,
   "metadata": {},
   "outputs": [
    {
     "output_type": "stream",
     "name": "stdout",
     "text": "<class 'pandas.core.frame.DataFrame'>\nRangeIndex: 7000 entries, 0 to 6999\nData columns (total 12 columns):\n #   Column                    Non-Null Count  Dtype  \n---  ------                    --------------  -----  \n 0   RowNumber                 7000 non-null   int64  \n 1   id                        7000 non-null   object \n 2   sobrenome                 7000 non-null   object \n 3   pontuacao_credito         7000 non-null   int64  \n 4   estado_residencia         7000 non-null   object \n 5   genero                    7000 non-null   object \n 6   idade                     7000 non-null   int64  \n 7   nivel_estabilidade        7000 non-null   int64  \n 8   saldo_conta               7000 non-null   float64\n 9   numero_produtos           7000 non-null   int64  \n 10  possui_cartao_de_credito  7000 non-null   int64  \n 11  membro_ativo              7000 non-null   int64  \ndtypes: float64(1), int64(7), object(4)\nmemory usage: 656.4+ KB\n"
    }
   ],
   "source": [
    "dados.info()"
   ]
  },
  {
   "cell_type": "code",
   "execution_count": null,
   "metadata": {},
   "outputs": [],
   "source": []
  }
 ]
}