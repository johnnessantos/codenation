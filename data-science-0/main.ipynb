{
 "cells": [
  {
   "cell_type": "markdown",
   "metadata": {},
   "source": [
    "# Desafio 1\n",
    "\n",
    "Para esse desafio, vamos trabalhar com o data set [Black Friday](https://www.kaggle.com/mehdidag/black-friday), que reúne dados sobre transações de compras em uma loja de varejo.\n",
    "\n",
    "Vamos utilizá-lo para praticar a exploração de data sets utilizando pandas. Você pode fazer toda análise neste mesmo notebook, mas as resposta devem estar nos locais indicados.\n",
    "\n",
    "> Obs.: Por favor, não modifique o nome das funções de resposta."
   ]
  },
  {
   "cell_type": "markdown",
   "metadata": {},
   "source": [
    "## _Set up_ da análise"
   ]
  },
  {
   "cell_type": "code",
   "execution_count": 1,
   "metadata": {},
   "outputs": [],
   "source": [
    "import pandas as pd\n",
    "import numpy as np"
   ]
  },
  {
   "cell_type": "code",
   "execution_count": 2,
   "metadata": {},
   "outputs": [],
   "source": [
    "black_friday = pd.read_csv(\"black_friday.csv\")"
   ]
  },
  {
   "cell_type": "markdown",
   "metadata": {},
   "source": [
    "## Inicie sua análise a partir daqui"
   ]
  },
  {
   "cell_type": "code",
   "execution_count": 3,
   "metadata": {},
   "outputs": [
    {
     "output_type": "execute_result",
     "data": {
      "text/plain": "   User_ID Product_ID Gender   Age  Occupation City_Category  \\\n0  1000001  P00069042      F  0-17          10             A   \n1  1000001  P00248942      F  0-17          10             A   \n2  1000001  P00087842      F  0-17          10             A   \n3  1000001  P00085442      F  0-17          10             A   \n4  1000002  P00285442      M   55+          16             C   \n\n  Stay_In_Current_City_Years  Marital_Status  Product_Category_1  \\\n0                          2               0                   3   \n1                          2               0                   1   \n2                          2               0                  12   \n3                          2               0                  12   \n4                         4+               0                   8   \n\n   Product_Category_2  Product_Category_3  Purchase  \n0                 NaN                 NaN      8370  \n1                 6.0                14.0     15200  \n2                 NaN                 NaN      1422  \n3                14.0                 NaN      1057  \n4                 NaN                 NaN      7969  ",
      "text/html": "<div>\n<style scoped>\n    .dataframe tbody tr th:only-of-type {\n        vertical-align: middle;\n    }\n\n    .dataframe tbody tr th {\n        vertical-align: top;\n    }\n\n    .dataframe thead th {\n        text-align: right;\n    }\n</style>\n<table border=\"1\" class=\"dataframe\">\n  <thead>\n    <tr style=\"text-align: right;\">\n      <th></th>\n      <th>User_ID</th>\n      <th>Product_ID</th>\n      <th>Gender</th>\n      <th>Age</th>\n      <th>Occupation</th>\n      <th>City_Category</th>\n      <th>Stay_In_Current_City_Years</th>\n      <th>Marital_Status</th>\n      <th>Product_Category_1</th>\n      <th>Product_Category_2</th>\n      <th>Product_Category_3</th>\n      <th>Purchase</th>\n    </tr>\n  </thead>\n  <tbody>\n    <tr>\n      <th>0</th>\n      <td>1000001</td>\n      <td>P00069042</td>\n      <td>F</td>\n      <td>0-17</td>\n      <td>10</td>\n      <td>A</td>\n      <td>2</td>\n      <td>0</td>\n      <td>3</td>\n      <td>NaN</td>\n      <td>NaN</td>\n      <td>8370</td>\n    </tr>\n    <tr>\n      <th>1</th>\n      <td>1000001</td>\n      <td>P00248942</td>\n      <td>F</td>\n      <td>0-17</td>\n      <td>10</td>\n      <td>A</td>\n      <td>2</td>\n      <td>0</td>\n      <td>1</td>\n      <td>6.0</td>\n      <td>14.0</td>\n      <td>15200</td>\n    </tr>\n    <tr>\n      <th>2</th>\n      <td>1000001</td>\n      <td>P00087842</td>\n      <td>F</td>\n      <td>0-17</td>\n      <td>10</td>\n      <td>A</td>\n      <td>2</td>\n      <td>0</td>\n      <td>12</td>\n      <td>NaN</td>\n      <td>NaN</td>\n      <td>1422</td>\n    </tr>\n    <tr>\n      <th>3</th>\n      <td>1000001</td>\n      <td>P00085442</td>\n      <td>F</td>\n      <td>0-17</td>\n      <td>10</td>\n      <td>A</td>\n      <td>2</td>\n      <td>0</td>\n      <td>12</td>\n      <td>14.0</td>\n      <td>NaN</td>\n      <td>1057</td>\n    </tr>\n    <tr>\n      <th>4</th>\n      <td>1000002</td>\n      <td>P00285442</td>\n      <td>M</td>\n      <td>55+</td>\n      <td>16</td>\n      <td>C</td>\n      <td>4+</td>\n      <td>0</td>\n      <td>8</td>\n      <td>NaN</td>\n      <td>NaN</td>\n      <td>7969</td>\n    </tr>\n  </tbody>\n</table>\n</div>"
     },
     "metadata": {},
     "execution_count": 3
    }
   ],
   "source": [
    "black_friday.head()"
   ]
  },
  {
   "cell_type": "code",
   "execution_count": 4,
   "metadata": {},
   "outputs": [
    {
     "output_type": "stream",
     "name": "stdout",
     "text": "<class 'pandas.core.frame.DataFrame'>\nRangeIndex: 537577 entries, 0 to 537576\nData columns (total 12 columns):\n #   Column                      Non-Null Count   Dtype  \n---  ------                      --------------   -----  \n 0   User_ID                     537577 non-null  int64  \n 1   Product_ID                  537577 non-null  object \n 2   Gender                      537577 non-null  object \n 3   Age                         537577 non-null  object \n 4   Occupation                  537577 non-null  int64  \n 5   City_Category               537577 non-null  object \n 6   Stay_In_Current_City_Years  537577 non-null  object \n 7   Marital_Status              537577 non-null  int64  \n 8   Product_Category_1          537577 non-null  int64  \n 9   Product_Category_2          370591 non-null  float64\n 10  Product_Category_3          164278 non-null  float64\n 11  Purchase                    537577 non-null  int64  \ndtypes: float64(2), int64(5), object(5)\nmemory usage: 49.2+ MB\n"
    }
   ],
   "source": [
    "black_friday.info()"
   ]
  },
  {
   "cell_type": "code",
   "execution_count": 5,
   "metadata": {},
   "outputs": [
    {
     "output_type": "execute_result",
     "data": {
      "text/plain": "                       count          mean          std        min        25%  \\\nUser_ID             537577.0  1.002992e+06  1714.392695  1000001.0  1001495.0   \nOccupation          537577.0  8.082710e+00     6.524120        0.0        2.0   \nMarital_Status      537577.0  4.087973e-01     0.491612        0.0        0.0   \nProduct_Category_1  537577.0  5.295546e+00     3.750701        1.0        1.0   \nProduct_Category_2  370591.0  9.842144e+00     5.087259        2.0        5.0   \nProduct_Category_3  164278.0  1.266984e+01     4.124341        3.0        9.0   \nPurchase            537577.0  9.333860e+03  4981.022133      185.0     5866.0   \n\n                          50%        75%        max  \nUser_ID             1003031.0  1004417.0  1006040.0  \nOccupation                7.0       14.0       20.0  \nMarital_Status            0.0        1.0        1.0  \nProduct_Category_1        5.0        8.0       18.0  \nProduct_Category_2        9.0       15.0       18.0  \nProduct_Category_3       14.0       16.0       18.0  \nPurchase               8062.0    12073.0    23961.0  ",
      "text/html": "<div>\n<style scoped>\n    .dataframe tbody tr th:only-of-type {\n        vertical-align: middle;\n    }\n\n    .dataframe tbody tr th {\n        vertical-align: top;\n    }\n\n    .dataframe thead th {\n        text-align: right;\n    }\n</style>\n<table border=\"1\" class=\"dataframe\">\n  <thead>\n    <tr style=\"text-align: right;\">\n      <th></th>\n      <th>count</th>\n      <th>mean</th>\n      <th>std</th>\n      <th>min</th>\n      <th>25%</th>\n      <th>50%</th>\n      <th>75%</th>\n      <th>max</th>\n    </tr>\n  </thead>\n  <tbody>\n    <tr>\n      <th>User_ID</th>\n      <td>537577.0</td>\n      <td>1.002992e+06</td>\n      <td>1714.392695</td>\n      <td>1000001.0</td>\n      <td>1001495.0</td>\n      <td>1003031.0</td>\n      <td>1004417.0</td>\n      <td>1006040.0</td>\n    </tr>\n    <tr>\n      <th>Occupation</th>\n      <td>537577.0</td>\n      <td>8.082710e+00</td>\n      <td>6.524120</td>\n      <td>0.0</td>\n      <td>2.0</td>\n      <td>7.0</td>\n      <td>14.0</td>\n      <td>20.0</td>\n    </tr>\n    <tr>\n      <th>Marital_Status</th>\n      <td>537577.0</td>\n      <td>4.087973e-01</td>\n      <td>0.491612</td>\n      <td>0.0</td>\n      <td>0.0</td>\n      <td>0.0</td>\n      <td>1.0</td>\n      <td>1.0</td>\n    </tr>\n    <tr>\n      <th>Product_Category_1</th>\n      <td>537577.0</td>\n      <td>5.295546e+00</td>\n      <td>3.750701</td>\n      <td>1.0</td>\n      <td>1.0</td>\n      <td>5.0</td>\n      <td>8.0</td>\n      <td>18.0</td>\n    </tr>\n    <tr>\n      <th>Product_Category_2</th>\n      <td>370591.0</td>\n      <td>9.842144e+00</td>\n      <td>5.087259</td>\n      <td>2.0</td>\n      <td>5.0</td>\n      <td>9.0</td>\n      <td>15.0</td>\n      <td>18.0</td>\n    </tr>\n    <tr>\n      <th>Product_Category_3</th>\n      <td>164278.0</td>\n      <td>1.266984e+01</td>\n      <td>4.124341</td>\n      <td>3.0</td>\n      <td>9.0</td>\n      <td>14.0</td>\n      <td>16.0</td>\n      <td>18.0</td>\n    </tr>\n    <tr>\n      <th>Purchase</th>\n      <td>537577.0</td>\n      <td>9.333860e+03</td>\n      <td>4981.022133</td>\n      <td>185.0</td>\n      <td>5866.0</td>\n      <td>8062.0</td>\n      <td>12073.0</td>\n      <td>23961.0</td>\n    </tr>\n  </tbody>\n</table>\n</div>"
     },
     "metadata": {},
     "execution_count": 5
    }
   ],
   "source": [
    "black_friday.describe().T"
   ]
  },
  {
   "cell_type": "code",
   "execution_count": 6,
   "metadata": {},
   "outputs": [
    {
     "output_type": "execute_result",
     "data": {
      "text/plain": "                                               colunas    types  missing  \\\nUser_ID                                        User_ID    int64        0   \nProduct_ID                                  Product_ID   object        0   \nGender                                          Gender   object        0   \nAge                                                Age   object        0   \nOccupation                                  Occupation    int64        0   \nCity_Category                            City_Category   object        0   \nStay_In_Current_City_Years  Stay_In_Current_City_Years   object        0   \nMarital_Status                          Marital_Status    int64        0   \nProduct_Category_1                  Product_Category_1    int64        0   \nProduct_Category_2                  Product_Category_2  float64   166986   \nProduct_Category_3                  Product_Category_3  float64   373299   \nPurchase                                      Purchase    int64        0   \n\n                            missing_percentage  \nUser_ID                               0.000000  \nProduct_ID                            0.000000  \nGender                                0.000000  \nAge                                   0.000000  \nOccupation                            0.000000  \nCity_Category                         0.000000  \nStay_In_Current_City_Years            0.000000  \nMarital_Status                        0.000000  \nProduct_Category_1                    0.000000  \nProduct_Category_2                    0.310627  \nProduct_Category_3                    0.694410  \nPurchase                              0.000000  ",
      "text/html": "<div>\n<style scoped>\n    .dataframe tbody tr th:only-of-type {\n        vertical-align: middle;\n    }\n\n    .dataframe tbody tr th {\n        vertical-align: top;\n    }\n\n    .dataframe thead th {\n        text-align: right;\n    }\n</style>\n<table border=\"1\" class=\"dataframe\">\n  <thead>\n    <tr style=\"text-align: right;\">\n      <th></th>\n      <th>colunas</th>\n      <th>types</th>\n      <th>missing</th>\n      <th>missing_percentage</th>\n    </tr>\n  </thead>\n  <tbody>\n    <tr>\n      <th>User_ID</th>\n      <td>User_ID</td>\n      <td>int64</td>\n      <td>0</td>\n      <td>0.000000</td>\n    </tr>\n    <tr>\n      <th>Product_ID</th>\n      <td>Product_ID</td>\n      <td>object</td>\n      <td>0</td>\n      <td>0.000000</td>\n    </tr>\n    <tr>\n      <th>Gender</th>\n      <td>Gender</td>\n      <td>object</td>\n      <td>0</td>\n      <td>0.000000</td>\n    </tr>\n    <tr>\n      <th>Age</th>\n      <td>Age</td>\n      <td>object</td>\n      <td>0</td>\n      <td>0.000000</td>\n    </tr>\n    <tr>\n      <th>Occupation</th>\n      <td>Occupation</td>\n      <td>int64</td>\n      <td>0</td>\n      <td>0.000000</td>\n    </tr>\n    <tr>\n      <th>City_Category</th>\n      <td>City_Category</td>\n      <td>object</td>\n      <td>0</td>\n      <td>0.000000</td>\n    </tr>\n    <tr>\n      <th>Stay_In_Current_City_Years</th>\n      <td>Stay_In_Current_City_Years</td>\n      <td>object</td>\n      <td>0</td>\n      <td>0.000000</td>\n    </tr>\n    <tr>\n      <th>Marital_Status</th>\n      <td>Marital_Status</td>\n      <td>int64</td>\n      <td>0</td>\n      <td>0.000000</td>\n    </tr>\n    <tr>\n      <th>Product_Category_1</th>\n      <td>Product_Category_1</td>\n      <td>int64</td>\n      <td>0</td>\n      <td>0.000000</td>\n    </tr>\n    <tr>\n      <th>Product_Category_2</th>\n      <td>Product_Category_2</td>\n      <td>float64</td>\n      <td>166986</td>\n      <td>0.310627</td>\n    </tr>\n    <tr>\n      <th>Product_Category_3</th>\n      <td>Product_Category_3</td>\n      <td>float64</td>\n      <td>373299</td>\n      <td>0.694410</td>\n    </tr>\n    <tr>\n      <th>Purchase</th>\n      <td>Purchase</td>\n      <td>int64</td>\n      <td>0</td>\n      <td>0.000000</td>\n    </tr>\n  </tbody>\n</table>\n</div>"
     },
     "metadata": {},
     "execution_count": 6
    }
   ],
   "source": [
    "black_friday_info = pd.DataFrame(\n",
    "    {\n",
    "        'colunas': black_friday.columns,\n",
    "        'types': black_friday.dtypes,\n",
    "        'missing': black_friday.isna().sum(),\n",
    "        'missing_percentage': black_friday.isna().sum() / black_friday.shape[0]\n",
    "    })\n",
    "\n",
    "black_friday_info"
   ]
  },
  {
   "cell_type": "code",
   "execution_count": 7,
   "metadata": {},
   "outputs": [
    {
     "output_type": "execute_result",
     "data": {
      "text/plain": "    User_ID Product_ID Gender    Age  Occupation City_Category  \\\n1   1000001  P00248942      F   0-17          10             A   \n6   1000004  P00184942      M  46-50           7             B   \n13  1000005  P00145042      M  26-35          20             A   \n14  1000006  P00231342      F  51-55           9             A   \n16  1000006   P0096642      F  51-55           9             A   \n\n   Stay_In_Current_City_Years  Marital_Status  Product_Category_1  \\\n1                           2               0                   1   \n6                           2               1                   1   \n13                          1               1                   1   \n14                          1               0                   5   \n16                          1               0                   2   \n\n    Product_Category_2  Product_Category_3  Purchase  \n1                  6.0                14.0     15200  \n6                  8.0                17.0     19215  \n13                 2.0                 5.0     15665  \n14                 8.0                14.0      5378  \n16                 3.0                 4.0     13055  ",
      "text/html": "<div>\n<style scoped>\n    .dataframe tbody tr th:only-of-type {\n        vertical-align: middle;\n    }\n\n    .dataframe tbody tr th {\n        vertical-align: top;\n    }\n\n    .dataframe thead th {\n        text-align: right;\n    }\n</style>\n<table border=\"1\" class=\"dataframe\">\n  <thead>\n    <tr style=\"text-align: right;\">\n      <th></th>\n      <th>User_ID</th>\n      <th>Product_ID</th>\n      <th>Gender</th>\n      <th>Age</th>\n      <th>Occupation</th>\n      <th>City_Category</th>\n      <th>Stay_In_Current_City_Years</th>\n      <th>Marital_Status</th>\n      <th>Product_Category_1</th>\n      <th>Product_Category_2</th>\n      <th>Product_Category_3</th>\n      <th>Purchase</th>\n    </tr>\n  </thead>\n  <tbody>\n    <tr>\n      <th>1</th>\n      <td>1000001</td>\n      <td>P00248942</td>\n      <td>F</td>\n      <td>0-17</td>\n      <td>10</td>\n      <td>A</td>\n      <td>2</td>\n      <td>0</td>\n      <td>1</td>\n      <td>6.0</td>\n      <td>14.0</td>\n      <td>15200</td>\n    </tr>\n    <tr>\n      <th>6</th>\n      <td>1000004</td>\n      <td>P00184942</td>\n      <td>M</td>\n      <td>46-50</td>\n      <td>7</td>\n      <td>B</td>\n      <td>2</td>\n      <td>1</td>\n      <td>1</td>\n      <td>8.0</td>\n      <td>17.0</td>\n      <td>19215</td>\n    </tr>\n    <tr>\n      <th>13</th>\n      <td>1000005</td>\n      <td>P00145042</td>\n      <td>M</td>\n      <td>26-35</td>\n      <td>20</td>\n      <td>A</td>\n      <td>1</td>\n      <td>1</td>\n      <td>1</td>\n      <td>2.0</td>\n      <td>5.0</td>\n      <td>15665</td>\n    </tr>\n    <tr>\n      <th>14</th>\n      <td>1000006</td>\n      <td>P00231342</td>\n      <td>F</td>\n      <td>51-55</td>\n      <td>9</td>\n      <td>A</td>\n      <td>1</td>\n      <td>0</td>\n      <td>5</td>\n      <td>8.0</td>\n      <td>14.0</td>\n      <td>5378</td>\n    </tr>\n    <tr>\n      <th>16</th>\n      <td>1000006</td>\n      <td>P0096642</td>\n      <td>F</td>\n      <td>51-55</td>\n      <td>9</td>\n      <td>A</td>\n      <td>1</td>\n      <td>0</td>\n      <td>2</td>\n      <td>3.0</td>\n      <td>4.0</td>\n      <td>13055</td>\n    </tr>\n  </tbody>\n</table>\n</div>"
     },
     "metadata": {},
     "execution_count": 7
    }
   ],
   "source": [
    "# Consultar os dados com todos os registros preenchidos\n",
    "black_friday_not_nan = black_friday.dropna()\n",
    "\n",
    "black_friday_not_nan.head()"
   ]
  },
  {
   "cell_type": "markdown",
   "metadata": {},
   "source": [
    "## Questão 1\n",
    "\n",
    "Quantas observações e quantas colunas há no dataset? Responda no formato de uma tuple `(n_observacoes, n_colunas)`."
   ]
  },
  {
   "cell_type": "code",
   "execution_count": 8,
   "metadata": {},
   "outputs": [],
   "source": [
    "def q1():\n",
    "    # Retorne aqui o resultado da questão 1.\n",
    "    return black_friday.shape"
   ]
  },
  {
   "cell_type": "markdown",
   "metadata": {},
   "source": [
    "## Questão 2\n",
    "\n",
    "Há quantas mulheres com idade entre 26 e 35 anos no dataset? Responda como um único escalar."
   ]
  },
  {
   "cell_type": "code",
   "execution_count": 9,
   "metadata": {},
   "outputs": [],
   "source": [
    "def q2():\n",
    "    return black_friday[(black_friday.Gender == 'F')\n",
    "            & (black_friday.Age == '26-35')].User_ID.nunique()"
   ]
  },
  {
   "cell_type": "markdown",
   "metadata": {},
   "source": [
    "## Questão 3\n",
    "\n",
    "Quantos usuários únicos há no dataset? Responda como um único escalar."
   ]
  },
  {
   "cell_type": "code",
   "execution_count": 10,
   "metadata": {},
   "outputs": [],
   "source": [
    "def q3():\n",
    "    return black_friday['User_ID'].nunique()"
   ]
  },
  {
   "cell_type": "markdown",
   "metadata": {},
   "source": [
    "## Questão 4\n",
    "\n",
    "Quantos tipos de dados diferentes existem no dataset? Responda como um único escalar."
   ]
  },
  {
   "cell_type": "code",
   "execution_count": 11,
   "metadata": {},
   "outputs": [],
   "source": [
    "def q4():\n",
    "    return black_friday.dtypes.nunique()"
   ]
  },
  {
   "cell_type": "markdown",
   "metadata": {},
   "source": [
    "## Questão 5\n",
    "\n",
    "Qual porcentagem dos registros possui ao menos um valor null (`None`, `ǸaN` etc)? Responda como um único escalar entre 0 e 1."
   ]
  },
  {
   "cell_type": "code",
   "execution_count": 12,
   "metadata": {},
   "outputs": [],
   "source": [
    "def q5():\n",
    "    black_friday_not_nan = black_friday.dropna()\n",
    "    return 1 - black_friday_not_nan.shape[0]/black_friday.shape[0]"
   ]
  },
  {
   "cell_type": "markdown",
   "metadata": {},
   "source": [
    "## Questão 6\n",
    "\n",
    "Quantos valores null existem na variável (coluna) com o maior número de null? Responda como um único escalar."
   ]
  },
  {
   "cell_type": "code",
   "execution_count": 13,
   "metadata": {},
   "outputs": [],
   "source": [
    "def q6():\n",
    "    black_friday_nan_acc = black_friday.isna().sum()\n",
    "    return max(black_friday_nan_acc)"
   ]
  },
  {
   "cell_type": "markdown",
   "metadata": {},
   "source": [
    "## Questão 7\n",
    "\n",
    "Qual o valor mais frequente (sem contar nulls) em `Product_Category_3`? Responda como um único escalar."
   ]
  },
  {
   "cell_type": "code",
   "execution_count": 19,
   "metadata": {},
   "outputs": [
    {
     "output_type": "stream",
     "name": "stdout",
     "text": "16.0\n"
    }
   ],
   "source": [
    "def q7():\n",
    "    #return black_friday.Product_Category_3.dropna().value_counts().sort_values(ascending=False).index[0]\n",
    "    return float(black_friday.Product_Category_3.mode())"
   ]
  },
  {
   "cell_type": "markdown",
   "metadata": {},
   "source": [
    "## Questão 8\n",
    "\n",
    "Qual a nova média da variável (coluna) `Purchase` após sua normalização? Responda como um único escalar."
   ]
  },
  {
   "cell_type": "code",
   "execution_count": 15,
   "metadata": {},
   "outputs": [],
   "source": [
    "def q8():\n",
    "    purchase_min = black_friday['Purchase'].min()\n",
    "    purchase_max = black_friday['Purchase'].max()\n",
    "    purshase_min_max = purchase_max-purchase_min\n",
    "\n",
    "    purchase_norm = (black_friday['Purchase'] - purchase_min)/purshase_min_max\n",
    "    return float(purchase_norm.mean())"
   ]
  },
  {
   "cell_type": "markdown",
   "metadata": {},
   "source": [
    "## Questão 9\n",
    "\n",
    "Quantas ocorrências entre -1 e 1 inclusive existem da variável `Purchase` após sua padronização? Responda como um único escalar."
   ]
  },
  {
   "cell_type": "code",
   "execution_count": 16,
   "metadata": {},
   "outputs": [],
   "source": [
    "def q9():\n",
    "    purchase_mean = black_friday['Purchase'].mean()\n",
    "    purchase_std = black_friday['Purchase'].std()\n",
    "    black_friday['Purchase_Stand'] = (black_friday['Purchase']-purchase_mean)/purchase_std\n",
    "    \n",
    "    purchase_stand_count = black_friday[black_friday['Purchase_Stand'].between(-1, 1)].shape[0]\n",
    "    return purchase_stand_count"
   ]
  },
  {
   "cell_type": "markdown",
   "metadata": {},
   "source": [
    "## Questão 10\n",
    "\n",
    "Podemos afirmar que se uma observação é null em `Product_Category_2` ela também o é em `Product_Category_3`? Responda com um bool (`True`, `False`)."
   ]
  },
  {
   "cell_type": "code",
   "execution_count": 17,
   "metadata": {},
   "outputs": [],
   "source": [
    "def q10():\n",
    "    black_friday_products_nan = black_friday.loc[black_friday['Product_Category_2'].isna(), ['Product_Category_2', 'Product_Category_3']]\n",
    "    return black_friday_products_nan['Product_Category_2'].equals(black_friday_products_nan['Product_Category_3'])"
   ]
  },
  {
   "cell_type": "code",
   "execution_count": null,
   "metadata": {},
   "outputs": [],
   "source": []
  }
 ],
 "metadata": {
  "kernelspec": {
   "display_name": "Python 3",
   "language": "python",
   "name": "python3"
  },
  "language_info": {
   "codemirror_mode": {
    "name": "ipython",
    "version": 3
   },
   "file_extension": ".py",
   "mimetype": "text/x-python",
   "name": "python",
   "nbconvert_exporter": "python",
   "pygments_lexer": "ipython3",
   "version": "3.7.6-final"
  }
 },
 "nbformat": 4,
 "nbformat_minor": 2
}